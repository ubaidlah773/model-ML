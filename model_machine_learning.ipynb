{
  "nbformat": 4,
  "nbformat_minor": 0,
  "metadata": {
    "colab": {
      "provenance": []
    },
    "kernelspec": {
      "name": "python3",
      "display_name": "Python 3"
    },
    "language_info": {
      "name": "python"
    }
  },
  "cells": [
    {
      "cell_type": "code",
      "execution_count": null,
      "metadata": {
        "id": "GC0yfqfXWuel"
      },
      "outputs": [],
      "source": [
        "# Import Library\n",
        "from sklearn.model_selection import train_test_split\n",
        "from sklearn.metrics import accuracy_score, classification_report\n",
        "\n",
        "from sklearn.tree import DecisionTreeClassifier\n",
        "from sklearn.ensemble import RandomForestClassifier\n",
        "from sklearn.naive_bayes import GaussianNB\n",
        "from sklearn.svm import SVC\n",
        "from sklearn.neighbors import KNeighborsClassifier\n",
        "from sklearn.linear_model import LogisticRegression\n",
        "from sklearn.neural_network import MLPClassifier\n",
        "from sklearn.ensemble import AdaBoostClassifier\n",
        "from sklearn.ensemble import GradientBoostingClassifier\n",
        "\n",
        "from sklearn.datasets import make_classification\n",
        "\n",
        "# Membuat Dataset Dummy yang Tidak Seimbang\n",
        "X, y = make_classification(\n",
        "    n_samples=1000,\n",
        "    n_features=20,\n",
        "    n_informative=2,\n",
        "    n_redundant=10,\n",
        "    n_clusters_per_class=1,\n",
        "    weights=[0.9, 0.1],  # 90% satu kelas, 10% kelas lain\n",
        "    flip_y=0,\n",
        "    random_state=42\n",
        ")\n",
        "\n",
        "# Pisahkan Data (Train/Test Split)\n",
        "X_train, X_test, y_train, y_test = train_test_split(X, y, test_size=0.3, random_state=42)\n"
      ]
    },
    {
      "cell_type": "code",
      "source": [
        "# Buat dan Latih Model\n",
        "clf = DecisionTreeClassifier()\n",
        "clf.fit(X_train, y_train)\n",
        "\n",
        "# Prediksi dan Evaluasi Model\n",
        "y_pred = clf.predict(X_test)\n",
        "accuracy = accuracy_score(y_test, y_pred)\n",
        "\n",
        "print(f'Decision Tree accuracy: {accuracy * 100:.2f}%')"
      ],
      "metadata": {
        "colab": {
          "base_uri": "https://localhost:8080/"
        },
        "id": "a6GCv0kxW5GH",
        "outputId": "a36105fb-5538-4789-db11-88b8f129c81b"
      },
      "execution_count": null,
      "outputs": [
        {
          "output_type": "stream",
          "name": "stdout",
          "text": [
            "Decision Tree accuracy: 98.00%\n"
          ]
        }
      ]
    },
    {
      "cell_type": "code",
      "source": [
        "# Buat dan Latih Model\n",
        "clf = RandomForestClassifier()\n",
        "clf.fit(X_train, y_train)\n",
        "\n",
        "# Prediksi dan Evaluasi Model\n",
        "y_pred = clf.predict(X_test)\n",
        "accuracy = accuracy_score(y_test, y_pred)\n",
        "\n",
        "print(f'Random Forest accuracy: {accuracy * 100:.2f}%')"
      ],
      "metadata": {
        "colab": {
          "base_uri": "https://localhost:8080/"
        },
        "id": "gjhMo0BeW6Cr",
        "outputId": "d0b18e1d-e607-4f55-c49c-66a786823c97"
      },
      "execution_count": null,
      "outputs": [
        {
          "output_type": "stream",
          "name": "stdout",
          "text": [
            "Random Forest accuracy: 98.33%\n"
          ]
        }
      ]
    },
    {
      "cell_type": "code",
      "source": [
        "# Buat dan Latih Model\n",
        "clf = SVC()\n",
        "clf.fit(X_train, y_train)\n",
        "\n",
        "# Prediksi dan Evaluasi Model\n",
        "y_pred = clf.predict(X_test)\n",
        "accuracy = accuracy_score(y_test, y_pred)\n",
        "\n",
        "print(f'SVM accuracy: {accuracy * 100:.2f}%')"
      ],
      "metadata": {
        "colab": {
          "base_uri": "https://localhost:8080/"
        },
        "id": "pVEtLxAtW8oh",
        "outputId": "71c078c2-e806-4cc5-ada1-34383a37ed99"
      },
      "execution_count": null,
      "outputs": [
        {
          "output_type": "stream",
          "name": "stdout",
          "text": [
            "SVM accuracy: 98.67%\n"
          ]
        }
      ]
    },
    {
      "cell_type": "code",
      "source": [
        "# Buat dan Latih Model\n",
        "clf = KNeighborsClassifier()\n",
        "clf.fit(X_train, y_train)\n",
        "\n",
        "# Prediksi dan Evaluasi Model\n",
        "y_pred = clf.predict(X_test)\n",
        "accuracy = accuracy_score(y_test, y_pred)\n",
        "\n",
        "print(f'KNN accuracy: {accuracy * 100:.2f}%')"
      ],
      "metadata": {
        "colab": {
          "base_uri": "https://localhost:8080/"
        },
        "id": "Nkx_HSzTW_pW",
        "outputId": "56bbae0a-a843-45cf-d183-3d01f9a69c10"
      },
      "execution_count": null,
      "outputs": [
        {
          "output_type": "stream",
          "name": "stdout",
          "text": [
            "KNN accuracy: 98.67%\n"
          ]
        }
      ]
    },
    {
      "cell_type": "code",
      "source": [
        "# Buat dan Latih Model\n",
        "clf = LogisticRegression(max_iter=100)\n",
        "clf.fit(X_train, y_train)\n",
        "\n",
        "# Prediksi dan Evaluasi Model\n",
        "y_pred = clf.predict(X_test)\n",
        "accuracy = accuracy_score(y_test, y_pred)\n",
        "\n",
        "print(f'Logistic Regression accuracy: {accuracy * 100:.2f}%')"
      ],
      "metadata": {
        "colab": {
          "base_uri": "https://localhost:8080/"
        },
        "id": "p1e1FBXjXCWh",
        "outputId": "ab665dcf-9d80-4192-df98-39faefd8682e"
      },
      "execution_count": null,
      "outputs": [
        {
          "output_type": "stream",
          "name": "stdout",
          "text": [
            "Logistic Regression accuracy: 98.33%\n"
          ]
        }
      ]
    },
    {
      "cell_type": "code",
      "source": [
        "# Buat dan Latih Model\n",
        "clf = GaussianNB()\n",
        "clf.fit(X_train, y_train)\n",
        "\n",
        "# Prediksi dan Evaluasi Model\n",
        "y_pred = clf.predict(X_test)\n",
        "accuracy = accuracy_score(y_test, y_pred)\n",
        "\n",
        "print(f'Naive Bayes accuracy: {accuracy * 100:.2f}%')"
      ],
      "metadata": {
        "colab": {
          "base_uri": "https://localhost:8080/"
        },
        "id": "rbHKYV91XHo5",
        "outputId": "71811ff8-5821-49a4-ece1-27d301312a40"
      },
      "execution_count": null,
      "outputs": [
        {
          "output_type": "stream",
          "name": "stdout",
          "text": [
            "Naive Bayes accuracy: 99.00%\n"
          ]
        }
      ]
    },
    {
      "cell_type": "code",
      "source": [],
      "metadata": {
        "id": "Jt9w4MlRXxtv"
      },
      "execution_count": null,
      "outputs": []
    },
    {
      "cell_type": "code",
      "source": [
        "# Buat dan Latih Model\n",
        "clf = MLPClassifier(max_iter=1000, random_state=42)\n",
        "clf.fit(X_train, y_train)\n",
        "\n",
        "# Prediksi dan Evaluasi Model\n",
        "y_pred = clf.predict(X_test)\n",
        "accuracy = accuracy_score(y_test, y_pred)\n",
        "\n",
        "print(f'Neural Network (MLPClassifier) accuracy: {accuracy * 100:.2f}%')"
      ],
      "metadata": {
        "colab": {
          "base_uri": "https://localhost:8080/"
        },
        "id": "UgdSiqhZXxcL",
        "outputId": "5b6fb3c2-fc0d-485d-8079-05dd63345093"
      },
      "execution_count": null,
      "outputs": [
        {
          "output_type": "stream",
          "name": "stdout",
          "text": [
            "Neural Network (MLPClassifier) accuracy: 98.33%\n"
          ]
        }
      ]
    },
    {
      "cell_type": "code",
      "source": [
        "# Buat dan Latih Model\n",
        "clf = AdaBoostClassifier()\n",
        "clf.fit(X_train, y_train)\n",
        "\n",
        "# Prediksi dan Evaluasi Model\n",
        "y_pred = clf.predict(X_test)\n",
        "accuracy = accuracy_score(y_test, y_pred)\n",
        "print(f'AdaBoost accuracy: {accuracy * 100:.2f}%')\n",
        "print(f'AdaBoost classification report:\\n{classification_report(y_test, y_pred)}\\n')"
      ],
      "metadata": {
        "colab": {
          "base_uri": "https://localhost:8080/"
        },
        "id": "P4cY_wPdYfGb",
        "outputId": "355f9bf0-bc8c-4f8c-bb4b-5a0cbea6dbbd"
      },
      "execution_count": null,
      "outputs": [
        {
          "output_type": "stream",
          "name": "stdout",
          "text": [
            "AdaBoost accuracy: 97.67%\n",
            "AdaBoost classification report:\n",
            "              precision    recall  f1-score   support\n",
            "\n",
            "           0       0.99      0.99      0.99       276\n",
            "           1       0.84      0.88      0.86        24\n",
            "\n",
            "    accuracy                           0.98       300\n",
            "   macro avg       0.91      0.93      0.92       300\n",
            "weighted avg       0.98      0.98      0.98       300\n",
            "\n",
            "\n"
          ]
        }
      ]
    },
    {
      "cell_type": "code",
      "source": [
        "# Buat dan Latih Model\n",
        "clf = GradientBoostingClassifier()\n",
        "clf.fit(X_train, y_train)\n",
        "\n",
        "# Prediksi dan Evaluasi Model\n",
        "y_pred = clf.predict(X_test)\n",
        "accuracy = accuracy_score(y_test, y_pred)\n",
        "print(f'Gradient Boosting accuracy: {accuracy * 100:.2f}%')\n",
        "print(f'Gradient Boosting classification report:\\n{classification_report(y_test, y_pred)}\\n')"
      ],
      "metadata": {
        "colab": {
          "base_uri": "https://localhost:8080/"
        },
        "id": "rL3IswqfYswT",
        "outputId": "e77d7701-8057-4f8b-ad7e-ad17e83aceec"
      },
      "execution_count": null,
      "outputs": [
        {
          "output_type": "stream",
          "name": "stdout",
          "text": [
            "Gradient Boosting accuracy: 98.33%\n",
            "Gradient Boosting classification report:\n",
            "              precision    recall  f1-score   support\n",
            "\n",
            "           0       0.99      0.99      0.99       276\n",
            "           1       0.91      0.88      0.89        24\n",
            "\n",
            "    accuracy                           0.98       300\n",
            "   macro avg       0.95      0.93      0.94       300\n",
            "weighted avg       0.98      0.98      0.98       300\n",
            "\n",
            "\n"
          ]
        }
      ]
    },
    {
      "cell_type": "code",
      "source": [
        "# Import Library\n",
        "from tensorflow.keras.models import Sequential\n",
        "from tensorflow.keras.layers import SimpleRNN, Dense\n",
        "\n",
        "# Preprocess data\n",
        "X_train_reshaped = X_train.reshape(-1, 5, 4)  # Reshape sesuai kebutuhan RNN\n",
        "X_test_reshaped = X_test.reshape(-1, 5, 4)\n",
        "\n",
        "# Buat dan Latih Model\n",
        "model = Sequential()\n",
        "model.add(SimpleRNN(50, input_shape=(5, 4)))\n",
        "model.add(Dense(2, activation='softmax'))\n",
        "model.compile(optimizer='adam', loss='sparse_categorical_crossentropy', metrics=['accuracy'])\n",
        "model.fit(X_train_reshaped, y_train, epochs=10, batch_size=32)\n",
        "\n",
        "# Prediksi dan Evaluasi Model\n",
        "y_pred = model.predict(X_test_reshaped)\n",
        "y_pred_classes = y_pred.argmax(axis=-1)\n",
        "accuracy = accuracy_score(y_test, y_pred_classes)\n",
        "print(f'RNN accuracy: {accuracy * 100:.2f}%')\n",
        "print(f'RNN classification report:\\n{classification_report(y_test, y_pred_classes)}\\n')\n"
      ],
      "metadata": {
        "colab": {
          "base_uri": "https://localhost:8080/"
        },
        "id": "k9gJXOesZJlS",
        "outputId": "1808850c-0c5a-467e-ba5d-d229a1c2b119"
      },
      "execution_count": null,
      "outputs": [
        {
          "output_type": "stream",
          "name": "stdout",
          "text": [
            "Epoch 1/10\n",
            "22/22 [==============================] - 1s 3ms/step - loss: 0.1790 - accuracy: 0.9571\n",
            "Epoch 2/10\n",
            "22/22 [==============================] - 0s 3ms/step - loss: 0.0942 - accuracy: 0.9686\n",
            "Epoch 3/10\n",
            "22/22 [==============================] - 0s 3ms/step - loss: 0.0795 - accuracy: 0.9757\n",
            "Epoch 4/10\n",
            "22/22 [==============================] - 0s 3ms/step - loss: 0.0703 - accuracy: 0.9743\n",
            "Epoch 5/10\n",
            "22/22 [==============================] - 0s 4ms/step - loss: 0.0623 - accuracy: 0.9786\n",
            "Epoch 6/10\n",
            "22/22 [==============================] - 0s 3ms/step - loss: 0.0581 - accuracy: 0.9786\n",
            "Epoch 7/10\n",
            "22/22 [==============================] - 0s 3ms/step - loss: 0.0549 - accuracy: 0.9814\n",
            "Epoch 8/10\n",
            "22/22 [==============================] - 0s 3ms/step - loss: 0.0515 - accuracy: 0.9829\n",
            "Epoch 9/10\n",
            "22/22 [==============================] - 0s 3ms/step - loss: 0.0493 - accuracy: 0.9857\n",
            "Epoch 10/10\n",
            "22/22 [==============================] - 0s 3ms/step - loss: 0.0470 - accuracy: 0.9843\n",
            "10/10 [==============================] - 0s 2ms/step\n",
            "RNN accuracy: 98.33%\n",
            "RNN classification report:\n",
            "              precision    recall  f1-score   support\n",
            "\n",
            "           0       0.99      1.00      0.99       276\n",
            "           1       0.95      0.83      0.89        24\n",
            "\n",
            "    accuracy                           0.98       300\n",
            "   macro avg       0.97      0.91      0.94       300\n",
            "weighted avg       0.98      0.98      0.98       300\n",
            "\n",
            "\n"
          ]
        }
      ]
    },
    {
      "cell_type": "code",
      "source": [
        "# Import Library\n",
        "from tensorflow.keras.models import Sequential\n",
        "from tensorflow.keras.layers import Dense\n",
        "\n",
        "# Buat dan Latih Model\n",
        "model = Sequential()\n",
        "model.add(Dense(128, input_shape=(X_train.shape[1],), activation='relu'))\n",
        "model.add(Dense(64, activation='relu'))\n",
        "model.add(Dense(2, activation='softmax'))\n",
        "model.compile(optimizer='adam', loss='sparse_categorical_crossentropy', metrics=['accuracy'])\n",
        "model.fit(X_train, y_train, epochs=10, batch_size=32)\n",
        "\n",
        "# Prediksi dan Evaluasi Model\n",
        "y_pred = model.predict(X_test)\n",
        "y_pred_classes = y_pred.argmax(axis=-1)\n",
        "accuracy = accuracy_score(y_test, y_pred_classes)\n",
        "print(f'DNN accuracy: {accuracy * 100:.2f}%')\n",
        "print(f'DNN classification report:\\n{classification_report(y_test, y_pred_classes)}\\n')\n"
      ],
      "metadata": {
        "colab": {
          "base_uri": "https://localhost:8080/"
        },
        "id": "XexdCGAsZUry",
        "outputId": "738c3d40-1518-43f9-f115-0700bc321f72"
      },
      "execution_count": null,
      "outputs": [
        {
          "output_type": "stream",
          "name": "stdout",
          "text": [
            "Epoch 1/10\n",
            "22/22 [==============================] - 1s 4ms/step - loss: 0.3581 - accuracy: 0.8229\n",
            "Epoch 2/10\n",
            "22/22 [==============================] - 0s 4ms/step - loss: 0.1136 - accuracy: 0.9557\n",
            "Epoch 3/10\n",
            "22/22 [==============================] - 0s 4ms/step - loss: 0.0932 - accuracy: 0.9643\n",
            "Epoch 4/10\n",
            "22/22 [==============================] - 0s 4ms/step - loss: 0.0835 - accuracy: 0.9700\n",
            "Epoch 5/10\n",
            "22/22 [==============================] - 0s 3ms/step - loss: 0.0732 - accuracy: 0.9757\n",
            "Epoch 6/10\n",
            "22/22 [==============================] - 0s 3ms/step - loss: 0.0675 - accuracy: 0.9771\n",
            "Epoch 7/10\n",
            "22/22 [==============================] - 0s 4ms/step - loss: 0.0635 - accuracy: 0.9786\n",
            "Epoch 8/10\n",
            "22/22 [==============================] - 0s 4ms/step - loss: 0.0581 - accuracy: 0.9829\n",
            "Epoch 9/10\n",
            "22/22 [==============================] - 0s 5ms/step - loss: 0.0532 - accuracy: 0.9843\n",
            "Epoch 10/10\n",
            "22/22 [==============================] - 0s 3ms/step - loss: 0.0489 - accuracy: 0.9843\n",
            "10/10 [==============================] - 0s 2ms/step\n",
            "DNN accuracy: 98.33%\n",
            "DNN classification report:\n",
            "              precision    recall  f1-score   support\n",
            "\n",
            "           0       0.99      1.00      0.99       276\n",
            "           1       0.95      0.83      0.89        24\n",
            "\n",
            "    accuracy                           0.98       300\n",
            "   macro avg       0.97      0.91      0.94       300\n",
            "weighted avg       0.98      0.98      0.98       300\n",
            "\n",
            "\n"
          ]
        }
      ]
    },
    {
      "cell_type": "code",
      "source": [
        "# Import Library\n",
        "from tensorflow.keras.models import Sequential\n",
        "from tensorflow.keras.layers import Conv2D, MaxPooling2D, Flatten, Dense\n",
        "\n",
        "# Preprocess data\n",
        "X_train_reshaped = X_train.reshape(-1, 4, 5, 1)  # Reshape sesuai kebutuhan CNN\n",
        "X_test_reshaped = X_test.reshape(-1, 4, 5, 1)\n",
        "\n",
        "# Buat dan Latih Model\n",
        "model = Sequential()\n",
        "model.add(Conv2D(32, kernel_size=(3, 3), activation='relu', input_shape=(4, 5, 1)))\n",
        "model.add(MaxPooling2D(pool_size=(2, 2)))\n",
        "model.add(Flatten())\n",
        "model.add(Dense(64, activation='relu'))\n",
        "model.add(Dense(2, activation='softmax'))\n",
        "model.compile(optimizer='adam', loss='sparse_categorical_crossentropy', metrics=['accuracy'])\n",
        "model.fit(X_train_reshaped, y_train, epochs=10, batch_size=32)\n",
        "\n",
        "# Prediksi dan Evaluasi Model\n",
        "y_pred = model.predict(X_test_reshaped)\n",
        "y_pred_classes = y_pred.argmax(axis=-1)\n",
        "accuracy = accuracy_score(y_test, y_pred_classes)\n",
        "print(f'CNN accuracy: {accuracy * 100:.2f}%')\n",
        "print(f'CNN classification report:\\n{classification_report(y_test, y_pred_classes)}\\n')\n"
      ],
      "metadata": {
        "colab": {
          "base_uri": "https://localhost:8080/"
        },
        "id": "hKvrh5omZXts",
        "outputId": "030f2dc2-6bed-41a2-d356-631b87af523c"
      },
      "execution_count": null,
      "outputs": [
        {
          "output_type": "stream",
          "name": "stdout",
          "text": [
            "Epoch 1/10\n",
            "22/22 [==============================] - 1s 4ms/step - loss: 0.3934 - accuracy: 0.8914\n",
            "Epoch 2/10\n",
            "22/22 [==============================] - 0s 4ms/step - loss: 0.2777 - accuracy: 0.8914\n",
            "Epoch 3/10\n",
            "22/22 [==============================] - 0s 4ms/step - loss: 0.2313 - accuracy: 0.8914\n",
            "Epoch 4/10\n",
            "22/22 [==============================] - 0s 4ms/step - loss: 0.1886 - accuracy: 0.8957\n",
            "Epoch 5/10\n",
            "22/22 [==============================] - 0s 3ms/step - loss: 0.1553 - accuracy: 0.9443\n",
            "Epoch 6/10\n",
            "22/22 [==============================] - 0s 3ms/step - loss: 0.1278 - accuracy: 0.9557\n",
            "Epoch 7/10\n",
            "22/22 [==============================] - 0s 4ms/step - loss: 0.1090 - accuracy: 0.9643\n",
            "Epoch 8/10\n",
            "22/22 [==============================] - 0s 4ms/step - loss: 0.1015 - accuracy: 0.9657\n",
            "Epoch 9/10\n",
            "22/22 [==============================] - 0s 3ms/step - loss: 0.0914 - accuracy: 0.9700\n",
            "Epoch 10/10\n",
            "22/22 [==============================] - 0s 4ms/step - loss: 0.0832 - accuracy: 0.9714\n",
            "10/10 [==============================] - 0s 2ms/step\n",
            "CNN accuracy: 98.67%\n",
            "CNN classification report:\n",
            "              precision    recall  f1-score   support\n",
            "\n",
            "           0       0.99      1.00      0.99       276\n",
            "           1       1.00      0.83      0.91        24\n",
            "\n",
            "    accuracy                           0.99       300\n",
            "   macro avg       0.99      0.92      0.95       300\n",
            "weighted avg       0.99      0.99      0.99       300\n",
            "\n",
            "\n"
          ]
        }
      ]
    },
    {
      "cell_type": "code",
      "source": [
        "# Import Library\n",
        "from tensorflow.keras.models import Sequential\n",
        "from tensorflow.keras.layers import Dense\n",
        "\n",
        "# Buat dan Latih Model\n",
        "model = Sequential()\n",
        "model.add(Dense(64, input_shape=(X_train.shape[1],), activation='relu'))\n",
        "model.add(Dense(32, activation='relu'))\n",
        "model.add(Dense(2, activation='softmax'))\n",
        "model.compile(optimizer='adam', loss='sparse_categorical_crossentropy', metrics=['accuracy'])\n",
        "model.fit(X_train, y_train, epochs=10, batch_size=32)\n",
        "\n",
        "# Prediksi dan Evaluasi Model\n",
        "y_pred = model.predict(X_test)\n",
        "y_pred_classes = y_pred.argmax(axis=-1)\n",
        "accuracy = accuracy_score(y_test, y_pred_classes)\n",
        "print(f'ANN accuracy: {accuracy * 100:.2f}%')\n",
        "print(f'ANN classification report:\\n{classification_report(y_test, y_pred_classes)}\\n')\n"
      ],
      "metadata": {
        "colab": {
          "base_uri": "https://localhost:8080/"
        },
        "id": "HJclBhKEZa6l",
        "outputId": "05bacee3-0b51-4ebb-ecb2-0bb35ee0ecb2"
      },
      "execution_count": null,
      "outputs": [
        {
          "output_type": "stream",
          "name": "stdout",
          "text": [
            "Epoch 1/10\n",
            "22/22 [==============================] - 2s 4ms/step - loss: 0.4612 - accuracy: 0.7943\n",
            "Epoch 2/10\n",
            "22/22 [==============================] - 0s 5ms/step - loss: 0.1838 - accuracy: 0.9400\n",
            "Epoch 3/10\n",
            "22/22 [==============================] - 0s 4ms/step - loss: 0.1217 - accuracy: 0.9600\n",
            "Epoch 4/10\n",
            "22/22 [==============================] - 0s 3ms/step - loss: 0.1034 - accuracy: 0.9614\n",
            "Epoch 5/10\n",
            "22/22 [==============================] - 0s 4ms/step - loss: 0.0933 - accuracy: 0.9629\n",
            "Epoch 6/10\n",
            "22/22 [==============================] - 0s 3ms/step - loss: 0.0865 - accuracy: 0.9643\n",
            "Epoch 7/10\n",
            "22/22 [==============================] - 0s 6ms/step - loss: 0.0852 - accuracy: 0.9657\n",
            "Epoch 8/10\n",
            "22/22 [==============================] - 0s 9ms/step - loss: 0.0785 - accuracy: 0.9714\n",
            "Epoch 9/10\n",
            "22/22 [==============================] - 0s 5ms/step - loss: 0.0739 - accuracy: 0.9714\n",
            "Epoch 10/10\n",
            "22/22 [==============================] - 0s 2ms/step - loss: 0.0704 - accuracy: 0.9743\n",
            "10/10 [==============================] - 0s 2ms/step\n",
            "ANN accuracy: 98.67%\n",
            "ANN classification report:\n",
            "              precision    recall  f1-score   support\n",
            "\n",
            "           0       0.99      1.00      0.99       276\n",
            "           1       1.00      0.83      0.91        24\n",
            "\n",
            "    accuracy                           0.99       300\n",
            "   macro avg       0.99      0.92      0.95       300\n",
            "weighted avg       0.99      0.99      0.99       300\n",
            "\n",
            "\n"
          ]
        }
      ]
    },
    {
      "cell_type": "code",
      "source": [
        "# Import Library\n",
        "import xgboost as xgb\n",
        "\n",
        "# Buat dan Latih Model\n",
        "clf = xgb.XGBClassifier()\n",
        "clf.fit(X_train, y_train)\n",
        "\n",
        "# Prediksi dan Evaluasi Model\n",
        "y_pred = clf.predict(X_test)\n",
        "accuracy = accuracy_score(y_test, y_pred)\n",
        "print(f'XGBoost accuracy: {accuracy * 100:.2f}%')\n",
        "print(f'XGBoost classification report:\\n{classification_report(y_test, y_pred)}\\n')\n"
      ],
      "metadata": {
        "colab": {
          "base_uri": "https://localhost:8080/"
        },
        "id": "tdOm6mTbZepT",
        "outputId": "9d34b6db-7a35-46b0-b62e-c1fe0c57e30a"
      },
      "execution_count": null,
      "outputs": [
        {
          "output_type": "stream",
          "name": "stdout",
          "text": [
            "XGBoost accuracy: 98.00%\n",
            "XGBoost classification report:\n",
            "              precision    recall  f1-score   support\n",
            "\n",
            "           0       0.99      0.99      0.99       276\n",
            "           1       0.91      0.83      0.87        24\n",
            "\n",
            "    accuracy                           0.98       300\n",
            "   macro avg       0.95      0.91      0.93       300\n",
            "weighted avg       0.98      0.98      0.98       300\n",
            "\n",
            "\n"
          ]
        }
      ]
    }
  ]
}